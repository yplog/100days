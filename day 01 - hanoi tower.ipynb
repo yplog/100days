{
 "cells": [
  {
   "cell_type": "markdown",
   "metadata": {},
   "source": [
    "# Açıklama:\n",
    "Oyun basitçe 3 direk üzerinden oynanmaktadır. Diğer bir deyişle belirli bir sayıda diskimiz ve bu diskleri yerleştirebileceğimiz 3 adet direk bulunmaktadır. Oyun kuralları aşağıdaki şekildedir:\n",
    "* Küçük bir diskin üzerine büyük bir disk yerleştirilemez.\n",
    "* Aynı anda sadece tek bir disk oynatılabilir.\n",
    "* Oyun, disklerin tamamı, başlangıç durumunda olduğu gibi (küçükten büyüğe doğru), başlangıç direğinden farklı bir direğe taşındığı zaman biter.  \n",
    "*Kaynak:* [Bilgisayar Kavramlari ~ Sadi Evren Seker](http://bilgisayarkavramlari.sadievrenseker.com/2012/03/15/hanoi-kuleleri-towers-of-hanoi/)  \n",
    "*Kaynak:* [Recursion Algorithm | Tower Of Hanoi ~ Yusuf Shakeel](https://www.youtube.com/watch?v=5_6nsViVM00) - video"
   ]
  },
  {
   "cell_type": "markdown",
   "metadata": {},
   "source": [
    "## Algoritma\n",
    "N Sayıdaki diski sağdan sola hareket ettirmek icin:\n",
    "1. [özyinelemeli] N-1 diski soldan ortaya taşıyalım.\n",
    "2. En buyuk diski soldan saga tasiyalim.\n",
    "3. [özyinelemeli] N-1 diski ortadan sağa taşıyalım.  \n",
    "\n",
    "```\n",
    "height = Disk sayıyısı olmak üzere\n",
    "hanoi(height, left, middle, right)\n",
    "Begin\n",
    "  if height = 1 then\n",
    "    print left => right;\n",
    "  else\n",
    "    Call hanoi(height - 1, left, right, middle)\n",
    "    Call hanoi(1, left, middle, right)\n",
    "    Call hanoi(height - 1, middle, left, right)\n",
    "  endif\n",
    "End\n",
    "```"
   ]
  },
  {
   "cell_type": "code",
   "execution_count": 4,
   "metadata": {},
   "outputs": [],
   "source": [
    "def hanoi(height, left='left', right='right', middle='middle'):\n",
    "    if height:\n",
    "        hanoi(height - 1, left, middle, right)\n",
    "        print(left, '=>', right)\n",
    "        hanoi(height - 1, middle, right, left)"
   ]
  },
  {
   "cell_type": "markdown",
   "metadata": {},
   "source": [
    "## Test"
   ]
  },
  {
   "cell_type": "code",
   "execution_count": 2,
   "metadata": {},
   "outputs": [
    {
     "name": "stdout",
     "output_type": "stream",
     "text": [
      "left => right\n"
     ]
    }
   ],
   "source": [
    "hanoi(1)"
   ]
  },
  {
   "cell_type": "code",
   "execution_count": 3,
   "metadata": {},
   "outputs": [
    {
     "name": "stdout",
     "output_type": "stream",
     "text": [
      "left => middle\n",
      "left => right\n",
      "middle => right\n"
     ]
    }
   ],
   "source": [
    "hanoi(2)"
   ]
  },
  {
   "cell_type": "code",
   "execution_count": 4,
   "metadata": {},
   "outputs": [
    {
     "name": "stdout",
     "output_type": "stream",
     "text": [
      "left => right\n",
      "left => middle\n",
      "right => middle\n",
      "left => right\n",
      "middle => left\n",
      "middle => right\n",
      "left => right\n"
     ]
    }
   ],
   "source": [
    "hanoi(3)"
   ]
  },
  {
   "cell_type": "markdown",
   "metadata": {},
   "source": [
    "![Hanoi Tower](resource/HanoiTower2.png)"
   ]
  },
  {
   "cell_type": "markdown",
   "metadata": {},
   "source": [
    "![Hanoi Tower](resource/HanoiTower.png)"
   ]
  },
  {
   "cell_type": "code",
   "execution_count": null,
   "metadata": {},
   "outputs": [],
   "source": []
  }
 ],
 "metadata": {
  "kernelspec": {
   "display_name": "Python 3",
   "language": "python",
   "name": "python3"
  },
  "language_info": {
   "codemirror_mode": {
    "name": "ipython",
    "version": 3
   },
   "file_extension": ".py",
   "mimetype": "text/x-python",
   "name": "python",
   "nbconvert_exporter": "python",
   "pygments_lexer": "ipython3",
   "version": "3.6.5"
  }
 },
 "nbformat": 4,
 "nbformat_minor": 2
}
