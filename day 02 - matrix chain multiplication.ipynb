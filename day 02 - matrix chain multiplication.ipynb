{
 "cells": [
  {
   "cell_type": "markdown",
   "metadata": {},
   "source": [
    "# Açıklama\n",
    "Matris çarpımında, çarpım matrisindeki her giriş, birinci matristeki bir satırla ikinci matristeki bir sütunun iç çarpımıdır.  \n",
    "Matris çarpımı birleştirici bir işlemdir.  \n",
    "Gerçek sayılarla çarpma işlemi ile matrislerle çarpma işlemi arasındaki en büyük farklardan birisi, matris çarpımının *değişme özelliğine sahip olmamasıdır*.  \n",
    "\n",
    "Özellik | Örnek  \n",
    "------------ | -------------  \n",
    "Çarpmada değişme özelliği yoktur! | AB≠BA  \n",
    "Çarpmada birleşme özelliği | (AB)C=A(BC)  \n",
    "Dağılma özelliği | A(B+C)=AB+AC, (B+C)A=BA+CA  \n",
    "Çarpmada etkisiz eleman özelliği | IA=A ve AI=A  \n",
    "Sıfırın çarpma işlemindeki özelliği | OA=O ve AO=O  \n",
    "Boyut özelliği | Bir m x n matrisle bir n × k, bir m x k matristir.    \n",
    "\n",
    "*Çarpmanın Birleşme Özelliği:* Bu özellik, matris çarpımını çevreleyen gruplamayı değiştirebileceğinizi söyler.  \n",
    "Örneğin, A matrisini B matrisiyle çarpabilir ve sonra sonucu C matrisiyle çarpabilirsiniz veya B matrisini C matrisiyle çarpabilir ve sonra sonucu A matrisiyle çarpabilirsiniz.  \n",
    "Bu özelliği kullanırken matrislerin hangi sırayla çarpıldığına dikkat edin, çünkü değişme özelliğinin matris çarpımlarında geçerli olmadığını biliyoruz!  \n",
    "![matrix-chain-multiplication](resource/matrix-chain-multiplication.png)  \n",
    "En iyi sıralama, özyinelemeli ilişki kullanılarak bulunabilir.\n",
    "MCM, minimum sayıda skaler çarpım döndüren bir işlevi ifade etsin.\n",
    "Daha sonra MCM tüm olası seçenekler arasında en iyi olarak tanımlanabilir.\n",
    "![matrix-chain-multiplication](https://cdn-images-1.medium.com/max/800/1*ZvVBe6tFLKmds_oDe-nzyw.png) \n",
    "\n",
    "*Kaynak:* [KhanAcademy](https://tr.khanacademy.org/math/precalculus/precalc-matrices/properties-of-matrix-multiplication/a/properties-of-matrix-multiplication)  \n",
    "*Kaynak:* [Bilgisayar Kavramları ~ Şadi Evren Şeker](http://bilgisayarkavramlari.sadievrenseker.com/2010/04/02/matris-carpimi-matrix-multiplication/)  \n",
    "*Kaynak:* [CSBreakdown](https://www.youtube.com/watch?v=GMzVeWpyTN0) - video  \n",
    "*Kaynak:* [Tushar Roy - Coding Made Simple](https://www.youtube.com/watch?v=vgLJZMUfnsU) - video  \n",
    "*Kaynak:* [Türkçe Kaynak](https://www.youtube.com/watch?v=ZqVNYlxl3DE) -video"
   ]
  },
  {
   "cell_type": "markdown",
   "metadata": {},
   "source": [
    "## Algoritma"
   ]
  },
  {
   "cell_type": "code",
   "execution_count": 4,
   "metadata": {},
   "outputs": [],
   "source": [
    "def mult(chain):\n",
    "    n = len(chain)\n",
    "    \n",
    "    # Tek matris zinciri sıfır maliyete sahiptir\n",
    "    aux = {(i, i): (0,) + chain[i] for i in range(n)}\n",
    "\n",
    "    # i: Alt zincir uzunluğu\n",
    "    for i in range(1, n):\n",
    "        # j: Alt zincirin başlangıç indexi\n",
    "        for j in range(0, n - i):\n",
    "            best = float('inf')\n",
    "\n",
    "            # k: Alt zincirin ayrılma noktası\n",
    "            for k in range(j, j + i):\n",
    "                # Ayrılma noktasında alt zincirleri çarp\n",
    "                lcost, lname, lrow, lcol = aux[j, k]\n",
    "                rcost, rname, rrow, rcol = aux[k + 1, j + i]\n",
    "                cost = lcost + rcost + lrow * lcol * rcol\n",
    "                var = '(%s%s)' % (lname, rname)\n",
    "\n",
    "                # En iyisini seç\n",
    "                if cost < best:\n",
    "                    best = cost\n",
    "                    aux[j, j + i] = cost, var, lrow, rcol\n",
    "\n",
    "    return dict(zip(['cost', 'order', 'rows', 'cols'], aux[0, n - 1]))"
   ]
  },
  {
   "cell_type": "markdown",
   "metadata": {},
   "source": [
    "## Test"
   ]
  },
  {
   "cell_type": "code",
   "execution_count": 5,
   "metadata": {},
   "outputs": [
    {
     "data": {
      "text/plain": [
       "{'cost': 18000, 'order': '((AB)C)', 'rows': 10, 'cols': 40}"
      ]
     },
     "execution_count": 5,
     "metadata": {},
     "output_type": "execute_result"
    }
   ],
   "source": [
    "mult([('A', 10, 20), ('B', 20, 30), ('C', 30, 40)])"
   ]
  },
  {
   "cell_type": "code",
   "execution_count": 6,
   "metadata": {},
   "outputs": [
    {
     "data": {
      "text/plain": [
       "{'cost': 110, 'order': '(A(B(C(DE))))', 'rows': 10, 'cols': 1}"
      ]
     },
     "execution_count": 6,
     "metadata": {},
     "output_type": "execute_result"
    }
   ],
   "source": [
    "mult([('A', 10, 5), ('B', 5, 1), ('C', 1, 5), ('D', 5, 10), ('E', 10, 1)])"
   ]
  },
  {
   "cell_type": "code",
   "execution_count": 7,
   "metadata": {},
   "outputs": [
    {
     "data": {
      "text/plain": [
       "{'cost': 124, 'order': '(((AB)C)D)', 'rows': 2, 'cols': 5}"
      ]
     },
     "execution_count": 7,
     "metadata": {},
     "output_type": "execute_result"
    }
   ],
   "source": [
    "mult([('A', 2, 3), ('B', 3, 6), ('C', 6, 4), ('D', 4, 5)])"
   ]
  },
  {
   "cell_type": "code",
   "execution_count": null,
   "metadata": {},
   "outputs": [],
   "source": []
  }
 ],
 "metadata": {
  "kernelspec": {
   "display_name": "Python 3",
   "language": "python",
   "name": "python3"
  },
  "language_info": {
   "codemirror_mode": {
    "name": "ipython",
    "version": 3
   },
   "file_extension": ".py",
   "mimetype": "text/x-python",
   "name": "python",
   "nbconvert_exporter": "python",
   "pygments_lexer": "ipython3",
   "version": "3.6.5"
  }
 },
 "nbformat": 4,
 "nbformat_minor": 2
}
